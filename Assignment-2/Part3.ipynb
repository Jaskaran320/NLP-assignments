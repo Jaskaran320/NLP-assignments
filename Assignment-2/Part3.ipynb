{
 "cells": [
  {
   "cell_type": "code",
   "execution_count": 1,
   "metadata": {},
   "outputs": [
    {
     "data": {
      "text/plain": [
       "<torch._C.Generator at 0x27e8afd8c50>"
      ]
     },
     "execution_count": 1,
     "metadata": {},
     "output_type": "execute_result"
    }
   ],
   "source": [
    "import torch\n",
    "import torch.autograd as autograd\n",
    "import torch.nn as nn\n",
    "import torch.optim as optim\n",
    "import json\n",
    "import numpy as np\n",
    "from tqdm import tqdm\n",
    "from sklearn.metrics import f1_score\n",
    "torch.manual_seed(1)"
   ]
  },
  {
   "cell_type": "code",
   "execution_count": 2,
   "metadata": {},
   "outputs": [],
   "source": [
    "device = torch.device(\"cuda\" if torch.cuda.is_available() else \"cpu\")\n",
    "device=\"cpu\""
   ]
  },
  {
   "cell_type": "code",
   "execution_count": 3,
   "metadata": {},
   "outputs": [],
   "source": [
    "NER_train_file = open(\"./processed/NER_train_tagged.json\")\n",
    "NER_train_json = json.load(NER_train_file)\n",
    "\n",
    "NER_val_file = open(\"./processed/NER_val_tagged.json\")\n",
    "NER_val_json = json.load(NER_val_file)\n",
    "\n",
    "NER_test_file = open(\"./processed/NER_test_tagged.json\")\n",
    "NER_test_json = json.load(NER_test_file)"
   ]
  },
  {
   "cell_type": "code",
   "execution_count": 4,
   "metadata": {},
   "outputs": [],
   "source": [
    "from gensim.models import KeyedVectors\n",
    "word2vec = KeyedVectors.load_word2vec_format('.vector_models/GoogleNews-vectors-negative300.bin', binary=True)"
   ]
  },
  {
   "cell_type": "code",
   "execution_count": 5,
   "metadata": {},
   "outputs": [],
   "source": [
    "def get_embeds(sentence,embed_model,embedding_dim):\n",
    "    word_vectors = []\n",
    "    for word in sentence:\n",
    "        # Check if the word exists in the Word2Vec model's vocabulary\n",
    "        if word in embed_model:\n",
    "            # Get the word vector for the current word\n",
    "            word_vector = embed_model[word]\n",
    "            # Append the word vector to the list\n",
    "            word_vectors.append(word_vector)\n",
    "        else:\n",
    "            # If the word is not in the vocabulary, append a zero vector\n",
    "            word_vectors.append(np.zeros(embedding_dim))\n",
    "    \n",
    "    # Convert the list of word vectors to a tensor\n",
    "    embeds_tensor = torch.tensor(word_vectors).to(device)\n",
    "    return embeds_tensor\n",
    "\n",
    "# Compute log sum exp in a numerically stable way for the forward algorithm\n",
    "def log_sum_exp(vec):\n",
    "    max_score = vec[0, argmax(vec)]\n",
    "    max_score_broadcast = max_score.view(1, -1).expand(1, vec.size()[1])\n",
    "    return max_score + \\\n",
    "        torch.log(torch.sum(torch.exp(vec - max_score_broadcast)))\n",
    "\n",
    "def generate_tags_to_idx(data):\n",
    "    unique_labels = []\n",
    "    for entry in data:\n",
    "        labels = entry['labels']\n",
    "        for label in labels:\n",
    "            unique_labels.append(label)\n",
    "    unique_labels=list(set(unique_labels))\n",
    "    label_dict = {}  \n",
    "    for label_index in range(len(unique_labels)):\n",
    "        label_dict[unique_labels[label_index]] =label_index\n",
    "    return label_dict"
   ]
  },
  {
   "cell_type": "markdown",
   "metadata": {},
   "source": [
    "# trying keras"
   ]
  },
  {
   "cell_type": "code",
   "execution_count": 6,
   "metadata": {},
   "outputs": [],
   "source": [
    "from keras.models import Model\n",
    "from keras.layers import Input, LSTM, Embedding, Dense, Bidirectional, Reshape\n",
    "from keras_contrib.layers import CRF\n",
    "from keras_contrib.losses import crf_loss\n",
    "from keras_contrib.metrics import crf_viterbi_accuracy\n",
    "from sklearn.metrics import f1_score\n",
    "import keras.backend as K\n",
    "import keras as k"
   ]
  },
  {
   "cell_type": "code",
   "execution_count": 22,
   "metadata": {},
   "outputs": [
    {
     "name": "stdout",
     "output_type": "stream",
     "text": [
      "Name: tensorflow\n",
      "Version: 2.10.1\n",
      "Summary: TensorFlow is an open source machine learning framework for everyone.\n",
      "Home-page: https://www.tensorflow.org/\n",
      "Author: Google Inc.\n",
      "Author-email: packages@tensorflow.org\n",
      "License: Apache 2.0\n",
      "Location: c:\\users\\deeptanshu barman\\appdata\\local\\packages\\pythonsoftwarefoundation.python.3.10_qbz5n2kfra8p0\\localcache\\local-packages\\python310\\site-packages\n",
      "Requires: absl-py, astunparse, flatbuffers, gast, google-pasta, grpcio, h5py, keras, keras-preprocessing, libclang, numpy, opt-einsum, packaging, protobuf, setuptools, six, tensorboard, tensorflow-estimator, tensorflow-io-gcs-filesystem, termcolor, typing-extensions, wrapt\n",
      "Required-by: \n"
     ]
    },
    {
     "name": "stderr",
     "output_type": "stream",
     "text": [
      "WARNING: Ignoring invalid distribution -rotobuf (c:\\users\\deeptanshu barman\\appdata\\local\\packages\\pythonsoftwarefoundation.python.3.10_qbz5n2kfra8p0\\localcache\\local-packages\\python310\\site-packages)\n"
     ]
    }
   ],
   "source": [
    "!pip show tensorflow"
   ]
  },
  {
   "cell_type": "code",
   "execution_count": 20,
   "metadata": {},
   "outputs": [
    {
     "name": "stdout",
     "output_type": "stream",
     "text": [
      "Files removed: 788\n"
     ]
    }
   ],
   "source": [
    "!pip cache purge"
   ]
  },
  {
   "cell_type": "code",
   "execution_count": 23,
   "metadata": {},
   "outputs": [
    {
     "name": "stderr",
     "output_type": "stream",
     "text": [
      "'sudo' is not recognized as an internal or external command,\n",
      "operable program or batch file.\n"
     ]
    }
   ],
   "source": [
    "!pip install --upgrade tensorflow==2.12.0"
   ]
  },
  {
   "cell_type": "code",
   "execution_count": 15,
   "metadata": {},
   "outputs": [],
   "source": [
    "from tensorflow_addons.layers import CRF"
   ]
  },
  {
   "cell_type": "code",
   "execution_count": 8,
   "metadata": {},
   "outputs": [],
   "source": [
    "tag_to_idx=generate_tags_to_idx(NER_train_json)"
   ]
  },
  {
   "cell_type": "code",
   "execution_count": 9,
   "metadata": {},
   "outputs": [],
   "source": [
    "def sentences_and_tags(data):\n",
    "    sentences=[]\n",
    "    labels=[]\n",
    "    for entry in data:\n",
    "        sentences.append(entry['text'])\n",
    "        labels.append(entry['labels'])\n",
    "    return sentences,labels"
   ]
  },
  {
   "cell_type": "code",
   "execution_count": 10,
   "metadata": {},
   "outputs": [],
   "source": [
    "# Function to preprocess your sentence and tags\n",
    "def preprocess(sentence, tags, word2vec, max_len):\n",
    "    # Tokenize the sentence\n",
    "    tokens = sentence.split()\n",
    "    # Convert tokens to word embeddings using Word2Vec\n",
    "    embeddings = [word2vec[token] if token in word2vec else np.zeros(300) for token in tokens]\n",
    "    # Pad embeddings to max_len\n",
    "    padded_embeddings = embeddings[:max_len] + [np.zeros(300)] * (max_len - len(embeddings))\n",
    "    # Convert tags to indices\n",
    "    tag_indices = [tag_to_idx[tag] for tag in tags]\n",
    "    return np.array(padded_embeddings), np.array(tag_indices)\n",
    "\n",
    "# Define your BiLSTM-CRF model\n",
    "def create_model(max_len, num_tags):\n",
    "    input_layer = Input(shape=(max_len, 300))\n",
    "\n",
    "    # Bidirectional LSTM layer\n",
    "    lstm_layer = Bidirectional(LSTM(units=50, return_sequences=True))(input_layer)\n",
    "\n",
    "    # CRF layer\n",
    "    crf_layer = CRF(num_tags)\n",
    "    # Output layer\n",
    "    _, output_layer, _, _ = crf_layer(lstm_layer)\n",
    "\n",
    "    # Create and compile the model\n",
    "    model = Model(input_layer, output_layer)\n",
    "    model.compile(optimizer='adam', loss=crf_loss, metrics=[crf_viterbi_accuracy])\n",
    "    return model"
   ]
  },
  {
   "cell_type": "code",
   "execution_count": 11,
   "metadata": {},
   "outputs": [],
   "source": [
    "# Function to preprocess your data\n",
    "def preprocess_data(sentences, tags, word2vec, tag_to_idx, max_len):\n",
    "    padded_embeddings = []\n",
    "    tag_indices = []\n",
    "    for sentence, tag in zip(sentences, tags):\n",
    "        embeddings = [word2vec[token] if token in word2vec else np.zeros(300) for token in sentence.split()]\n",
    "        padded_embeddings.append(embeddings[:max_len] + [np.zeros(300)] * (max_len - len(embeddings)))\n",
    "        tag_indices.append([tag_to_idx[t] for t in tag][:max_len] + [0] * (max_len - len(tag)))\n",
    "    return np.array(padded_embeddings), np.array(tag_indices)\n",
    "\n",
    "# Function to calculate F1 score\n",
    "def calculate_f1_score(y_true, y_pred):\n",
    "    y_true_flat = y_true.flatten()\n",
    "    y_pred_flat = y_pred.flatten()\n",
    "    return f1_score(y_true_flat, y_pred_flat, average='macro')\n",
    "\n",
    "# Prepare your training data\n",
    "# sentences_train, tags_train are your training data\n",
    "# sentences_val, tags_val are your validation data\n",
    "# Assume you have your word2vec embeddings and tag_to_idx dictionary\n",
    "# max_len is the maximum length of your sentences\n",
    "\n",
    "sentences_train,tags_train=sentences_and_tags(NER_train_json)\n",
    "sentences_val,tags_val=sentences_and_tags(NER_val_json)\n",
    "# sentences_test,tags_val=sentences_and_tags(NER_test_json)\n",
    "\n",
    "num_tags=len(tag_to_idx)\n",
    "max_len=75\n",
    "\n",
    "padded_embeddings_train, tag_indices_train = preprocess_data(sentences_train, tags_train, word2vec, tag_to_idx, max_len)\n",
    "padded_embeddings_val, tag_indices_val = preprocess_data(sentences_val, tags_val, word2vec, tag_to_idx, max_len)"
   ]
  },
  {
   "cell_type": "code",
   "execution_count": 12,
   "metadata": {},
   "outputs": [
    {
     "name": "stdout",
     "output_type": "stream",
     "text": [
      "Model: \"model\"\n",
      "_________________________________________________________________\n",
      " Layer (type)                Output Shape              Param #   \n",
      "=================================================================\n",
      " input_1 (InputLayer)        [(None, 75, 300)]         0         \n",
      "                                                                 \n",
      " bidirectional (Bidirectiona  (None, 75, 100)          140400    \n",
      " l)                                                              \n",
      "                                                                 \n",
      " crf (CRF)                   [(None, 75),              3510      \n",
      "                              (None, 75, 27),                    \n",
      "                              (None,),                           \n",
      "                              (27, 27)]                          \n",
      "                                                                 \n",
      "=================================================================\n",
      "Total params: 143,910\n",
      "Trainable params: 143,910\n",
      "Non-trainable params: 0\n",
      "_________________________________________________________________\n"
     ]
    }
   ],
   "source": [
    "# Define your BiLSTM-CRF model\n",
    "model = create_model(max_len, num_tags)\n",
    "model.summary()"
   ]
  },
  {
   "cell_type": "code",
   "execution_count": 13,
   "metadata": {},
   "outputs": [
    {
     "name": "stdout",
     "output_type": "stream",
     "text": [
      "Epoch 1/10\n"
     ]
    },
    {
     "ename": "AttributeError",
     "evalue": "in user code:\n\n    File \"C:\\Users\\Deeptanshu Barman\\AppData\\Local\\Packages\\PythonSoftwareFoundation.Python.3.10_qbz5n2kfra8p0\\LocalCache\\local-packages\\Python310\\site-packages\\keras\\engine\\training.py\", line 1160, in train_function  *\n        return step_function(self, iterator)\n    File \"C:\\Users\\Deeptanshu Barman\\AppData\\Local\\Packages\\PythonSoftwareFoundation.Python.3.10_qbz5n2kfra8p0\\LocalCache\\local-packages\\Python310\\site-packages\\keras_contrib\\losses\\crf_losses.py\", line 54, in crf_loss  *\n        crf, idx = y_pred._keras_history[:2]\n\n    AttributeError: 'Tensor' object has no attribute '_keras_history'\n",
     "output_type": "error",
     "traceback": [
      "\u001b[1;31m---------------------------------------------------------------------------\u001b[0m",
      "\u001b[1;31mAttributeError\u001b[0m                            Traceback (most recent call last)",
      "Cell \u001b[1;32mIn[13], line 6\u001b[0m\n\u001b[0;32m      4\u001b[0m \u001b[38;5;28mprint\u001b[39m(\u001b[38;5;124mf\u001b[39m\u001b[38;5;124m\"\u001b[39m\u001b[38;5;124mEpoch \u001b[39m\u001b[38;5;132;01m{\u001b[39;00mepoch\u001b[38;5;241m+\u001b[39m\u001b[38;5;241m1\u001b[39m\u001b[38;5;132;01m}\u001b[39;00m\u001b[38;5;124m/\u001b[39m\u001b[38;5;132;01m{\u001b[39;00mepochs\u001b[38;5;132;01m}\u001b[39;00m\u001b[38;5;124m\"\u001b[39m)\n\u001b[0;32m      5\u001b[0m \u001b[38;5;66;03m# Fit the model on training data\u001b[39;00m\n\u001b[1;32m----> 6\u001b[0m \u001b[43mmodel\u001b[49m\u001b[38;5;241;43m.\u001b[39;49m\u001b[43mfit\u001b[49m\u001b[43m(\u001b[49m\u001b[43mpadded_embeddings_train\u001b[49m\u001b[43m,\u001b[49m\u001b[43m \u001b[49m\u001b[43mtag_indices_train\u001b[49m\u001b[43m,\u001b[49m\u001b[43m \u001b[49m\u001b[43mepochs\u001b[49m\u001b[38;5;241;43m=\u001b[39;49m\u001b[38;5;241;43m1\u001b[39;49m\u001b[43m,\u001b[49m\u001b[43m \u001b[49m\u001b[43mbatch_size\u001b[49m\u001b[38;5;241;43m=\u001b[39;49m\u001b[38;5;241;43m1\u001b[39;49m\u001b[43m,\u001b[49m\u001b[43m \u001b[49m\u001b[43mverbose\u001b[49m\u001b[38;5;241;43m=\u001b[39;49m\u001b[38;5;241;43m1\u001b[39;49m\u001b[43m)\u001b[49m\n\u001b[0;32m      8\u001b[0m \u001b[38;5;66;03m# Evaluate the model on validation data\u001b[39;00m\n\u001b[0;32m      9\u001b[0m y_pred_val \u001b[38;5;241m=\u001b[39m model\u001b[38;5;241m.\u001b[39mpredict(padded_embeddings_val)\n",
      "File \u001b[1;32m~\\AppData\\Local\\Packages\\PythonSoftwareFoundation.Python.3.10_qbz5n2kfra8p0\\LocalCache\\local-packages\\Python310\\site-packages\\keras\\utils\\traceback_utils.py:70\u001b[0m, in \u001b[0;36mfilter_traceback.<locals>.error_handler\u001b[1;34m(*args, **kwargs)\u001b[0m\n\u001b[0;32m     67\u001b[0m     filtered_tb \u001b[38;5;241m=\u001b[39m _process_traceback_frames(e\u001b[38;5;241m.\u001b[39m__traceback__)\n\u001b[0;32m     68\u001b[0m     \u001b[38;5;66;03m# To get the full stack trace, call:\u001b[39;00m\n\u001b[0;32m     69\u001b[0m     \u001b[38;5;66;03m# `tf.debugging.disable_traceback_filtering()`\u001b[39;00m\n\u001b[1;32m---> 70\u001b[0m     \u001b[38;5;28;01mraise\u001b[39;00m e\u001b[38;5;241m.\u001b[39mwith_traceback(filtered_tb) \u001b[38;5;28;01mfrom\u001b[39;00m \u001b[38;5;28mNone\u001b[39m\n\u001b[0;32m     71\u001b[0m \u001b[38;5;28;01mfinally\u001b[39;00m:\n\u001b[0;32m     72\u001b[0m     \u001b[38;5;28;01mdel\u001b[39;00m filtered_tb\n",
      "File \u001b[1;32mC:\\temp\\__autograph_generated_fileg7rvrfij.py:15\u001b[0m, in \u001b[0;36mouter_factory.<locals>.inner_factory.<locals>.tf__train_function\u001b[1;34m(iterator)\u001b[0m\n\u001b[0;32m     13\u001b[0m \u001b[38;5;28;01mtry\u001b[39;00m:\n\u001b[0;32m     14\u001b[0m     do_return \u001b[38;5;241m=\u001b[39m \u001b[38;5;28;01mTrue\u001b[39;00m\n\u001b[1;32m---> 15\u001b[0m     retval_ \u001b[38;5;241m=\u001b[39m ag__\u001b[38;5;241m.\u001b[39mconverted_call(ag__\u001b[38;5;241m.\u001b[39mld(step_function), (ag__\u001b[38;5;241m.\u001b[39mld(\u001b[38;5;28mself\u001b[39m), ag__\u001b[38;5;241m.\u001b[39mld(iterator)), \u001b[38;5;28;01mNone\u001b[39;00m, fscope)\n\u001b[0;32m     16\u001b[0m \u001b[38;5;28;01mexcept\u001b[39;00m:\n\u001b[0;32m     17\u001b[0m     do_return \u001b[38;5;241m=\u001b[39m \u001b[38;5;28;01mFalse\u001b[39;00m\n",
      "File \u001b[1;32mC:\\temp\\__autograph_generated_filerwhwz80k.py:25\u001b[0m, in \u001b[0;36mouter_factory.<locals>.inner_factory.<locals>.tf__crf_loss\u001b[1;34m(y_true, y_pred)\u001b[0m\n\u001b[0;32m     23\u001b[0m do_return \u001b[38;5;241m=\u001b[39m \u001b[38;5;28;01mFalse\u001b[39;00m\n\u001b[0;32m     24\u001b[0m retval_ \u001b[38;5;241m=\u001b[39m ag__\u001b[38;5;241m.\u001b[39mUndefinedReturnValue()\n\u001b[1;32m---> 25\u001b[0m (crf, idx) \u001b[38;5;241m=\u001b[39m \u001b[43mag__\u001b[49m\u001b[38;5;241;43m.\u001b[39;49m\u001b[43mld\u001b[49m\u001b[43m(\u001b[49m\u001b[43my_pred\u001b[49m\u001b[43m)\u001b[49m\u001b[38;5;241;43m.\u001b[39;49m\u001b[43m_keras_history\u001b[49m[:\u001b[38;5;241m2\u001b[39m]\n\u001b[0;32m     27\u001b[0m \u001b[38;5;28;01mdef\u001b[39;00m \u001b[38;5;21mget_state_1\u001b[39m():\n\u001b[0;32m     28\u001b[0m     \u001b[38;5;28;01mreturn\u001b[39;00m (do_return, retval_)\n",
      "\u001b[1;31mAttributeError\u001b[0m: in user code:\n\n    File \"C:\\Users\\Deeptanshu Barman\\AppData\\Local\\Packages\\PythonSoftwareFoundation.Python.3.10_qbz5n2kfra8p0\\LocalCache\\local-packages\\Python310\\site-packages\\keras\\engine\\training.py\", line 1160, in train_function  *\n        return step_function(self, iterator)\n    File \"C:\\Users\\Deeptanshu Barman\\AppData\\Local\\Packages\\PythonSoftwareFoundation.Python.3.10_qbz5n2kfra8p0\\LocalCache\\local-packages\\Python310\\site-packages\\keras_contrib\\losses\\crf_losses.py\", line 54, in crf_loss  *\n        crf, idx = y_pred._keras_history[:2]\n\n    AttributeError: 'Tensor' object has no attribute '_keras_history'\n"
     ]
    }
   ],
   "source": [
    "# Train the model\n",
    "epochs = 10  # Define number of epochs\n",
    "for epoch in range(epochs):\n",
    "    print(f\"Epoch {epoch+1}/{epochs}\")\n",
    "    # Fit the model on training data\n",
    "    model.fit(padded_embeddings_train, tag_indices_train, epochs=1, batch_size=1, verbose=1)\n",
    "    \n",
    "    # Evaluate the model on validation data\n",
    "    y_pred_val = model.predict(padded_embeddings_val)\n",
    "    f1_val = calculate_f1_score(tag_indices_val, y_pred_val)\n",
    "    print(f\"F1 Score (Validation): {f1_val}\")"
   ]
  }
 ],
 "metadata": {
  "kernelspec": {
   "display_name": "Python 3",
   "language": "python",
   "name": "python3"
  },
  "language_info": {
   "codemirror_mode": {
    "name": "ipython",
    "version": 3
   },
   "file_extension": ".py",
   "mimetype": "text/x-python",
   "name": "python",
   "nbconvert_exporter": "python",
   "pygments_lexer": "ipython3",
   "version": "3.10.11"
  }
 },
 "nbformat": 4,
 "nbformat_minor": 2
}
