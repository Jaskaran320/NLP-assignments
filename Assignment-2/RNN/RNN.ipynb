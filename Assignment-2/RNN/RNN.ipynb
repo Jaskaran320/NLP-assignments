{
 "cells": [
  {
   "cell_type": "markdown",
   "metadata": {},
   "source": [
    "# Imports"
   ]
  },
  {
   "cell_type": "code",
   "execution_count": 489,
   "metadata": {},
   "outputs": [],
   "source": [
    "import torch \n",
    "import pandas as pd \n",
    "import numpy as np\n",
    "import matplotlib.pyplot as plt\n",
    "import torch.nn as nn\n",
    "import os\n",
    "import json\n",
    "import gensim\n",
    "import re\n",
    "import torch.optim as optim\n",
    "from torch.nn.utils.rnn import pad_sequence\n",
    "from gensim.models import KeyedVectors\n",
    "device = torch.device(\"cuda\" if torch.cuda.is_available() else \"cpu\")"
   ]
  },
  {
   "cell_type": "code",
   "execution_count": 499,
   "metadata": {},
   "outputs": [],
   "source": [
    "with open('../processed/LR_train_tagged.json') as f: \n",
    "    LR_train = json.load(f)\n",
    "    \n",
    "with open('../processed/LR_test_tagged.json') as f:\n",
    "    LR_test = json.load(f)\n",
    "    \n",
    "with open('../processed/LR_val_tagged.json') as f:\n",
    "    LR_val = json.load(f)\n",
    "\n",
    "with open('../processed/NER_train_tagged.json') as f:\n",
    "    NER_train = json.load(f)\n",
    "\n",
    "with open('../processed/NER_test_tagged.json') as f:\n",
    "    NER_test = json.load(f)\n",
    "\n",
    "with open('../processed/NER_val_tagged.json') as f:\n",
    "    NER_val = json.load(f)\n"
   ]
  },
  {
   "cell_type": "code",
   "execution_count": 491,
   "metadata": {},
   "outputs": [],
   "source": [
    "w2vmodel = KeyedVectors.load_word2vec_format('../.vector_cache/GoogleNews-vectors-negative300.bin', binary=True)"
   ]
  },
  {
   "cell_type": "code",
   "execution_count": 503,
   "metadata": {},
   "outputs": [
    {
     "name": "stdout",
     "output_type": "stream",
     "text": [
      "{'O': 0, 'I_STATUTE': 1, 'B_GPE': 2, 'B_CASE_NUMBER': 3, 'B_COURT': 4, 'I_ORG': 5, 'B_STATUTE': 6, 'I_OTHER_PERSON': 7, 'B_DATE': 8, 'I_DATE': 9, 'B_PROVISION': 10, 'I_RESPONDENT': 11, 'I_JUDGE': 12, 'I_PETITIONER': 13, 'I_COURT': 14, 'B_JUDGE': 15, 'I_PRECEDENT': 16, 'B_RESPONDENT': 17, 'I_GPE': 18, 'I_PROVISION': 19, 'B_PRECEDENT': 20, 'B_WITNESS': 21, 'I_CASE_NUMBER': 22, 'B_ORG': 23, 'I_WITNESS': 24, 'B_OTHER_PERSON': 25, 'B_PETITIONER': 26}\n"
     ]
    }
   ],
   "source": [
    "unique_labels = []\n",
    "for entry in NER_train:\n",
    "    labels = entry['labels']\n",
    "    for label in labels:\n",
    "        unique_labels.append(label)\n",
    "\n",
    "label_dict = {}\n",
    "unique_labels = list(set(unique_labels))\n",
    "\n",
    "for label_index in range(len(unique_labels)):\n",
    "    label_dict[unique_labels[label_index]] = label_index\n",
    "    \n",
    "print(label_dict)"
   ]
  },
  {
   "cell_type": "code",
   "execution_count": 505,
   "metadata": {},
   "outputs": [
    {
     "name": "stdout",
     "output_type": "stream",
     "text": [
      "70\n",
      "dc09913bba844e3c8d920c9df2970988\n"
     ]
    }
   ],
   "source": [
    "maxlen = 0\n",
    "id = 0\n",
    "for entry in NER_train:\n",
    "    if (maxlen < len(entry['text'].split())):\n",
    "        maxlen = len(entry['text'].split())\n",
    "        id = entry['id']\n",
    "print(maxlen)\n",
    "print(id)"
   ]
  },
  {
   "cell_type": "code",
   "execution_count": 506,
   "metadata": {},
   "outputs": [],
   "source": [
    "class NER_dataset(torch.utils.data.Dataset):\n",
    "    def __init__(self, dataset, embedding=\"word2vec\"):\n",
    "        self.padding_word = \"PAD\"\n",
    "        if (embedding == \"word2vec\"):\n",
    "            self.w2v_model = w2vmodel\n",
    "        self.data = dataset\n",
    "        self.input = []\n",
    "        self.labels = []\n",
    "        for entry in dataset:\n",
    "            padded_entry = entry[\"text\"].split(\" \") + [self.padding_word] * (75- len(entry[\"text\"].split(\" \")))\n",
    "            self.input.append(padded_entry)\n",
    "            padded_labels = entry[\"labels\"] + [\"O\"] * (75 - len(entry[\"labels\"]))\n",
    "            self.labels.append(padded_labels)\n",
    "\n",
    "        self.tag_to_index = label_dict\n",
    "\n",
    "    def __len__(self):\n",
    "        return len(self.input)\n",
    "\n",
    "    def __getitem__(self, idx):\n",
    "        sentence = self.input[idx]\n",
    "        word_vecs = []\n",
    "        labels = []\n",
    "        for word_index in range(len(sentence)):\n",
    "            if sentence[word_index] not in self.w2v_model:\n",
    "                word_vecs.append(np.zeros(300))\n",
    "                labels.append(self.tag_to_index[\"O\"])\n",
    "            else:\n",
    "                word_vecs.append(self.w2v_model[sentence[word_index]])\n",
    "                labels.append(self.tag_to_index[self.labels[idx][word_index]])\n",
    "\n",
    "        return torch.tensor(word_vecs), torch.tensor(labels)"
   ]
  },
  {
   "cell_type": "code",
   "execution_count": 507,
   "metadata": {},
   "outputs": [],
   "source": [
    "NER_train_loader = torch.utils.data.DataLoader(NER_dataset(NER_train), batch_size=64, shuffle=True)"
   ]
  },
  {
   "cell_type": "code",
   "execution_count": 508,
   "metadata": {},
   "outputs": [],
   "source": [
    "model = torch.nn.RNN(300, 27, 1, batch_first=True)\n",
    "model = model.to(device)\n",
    "criterion = torch.nn.CrossEntropyLoss()\n",
    "optimizer = torch.optim.SGD(model.parameters(), lr=0.001)"
   ]
  },
  {
   "cell_type": "code",
   "execution_count": 509,
   "metadata": {},
   "outputs": [],
   "source": [
    "def train(model, train_loader, criterion, optimizer, num_epochs=10):\n",
    "    model.train()\n",
    "    losser = []\n",
    "    for epoch in range(num_epochs):\n",
    "        epoch_loss = 0\n",
    "        for i, (inputs, labels) in enumerate(train_loader):\n",
    "            inputs, labels = inputs.to(device).to(torch.float32), labels.to(device).to(torch.long)\n",
    "            outputs, hn = model(inputs)\n",
    "            outputs = outputs.reshape(-1, outputs.shape[-1])\n",
    "            labels = labels.reshape(-1)\n",
    "            loss = criterion(outputs, labels)\n",
    "            optimizer.zero_grad()\n",
    "            loss.backward()\n",
    "            optimizer.step()\n",
    "            epoch_loss += loss.item()/len(labels)\n",
    "        print(f\"Epoch {epoch} loss: {epoch_loss/len(NER_train_loader)}\")\n",
    "        losser.append(epoch_loss)\n",
    "        "
   ]
  },
  {
   "cell_type": "code",
   "execution_count": 510,
   "metadata": {},
   "outputs": [
    {
     "name": "stdout",
     "output_type": "stream",
     "text": [
      "Epoch 0 loss: 0.0006135675053399311\n",
      "Epoch 1 loss: 0.0005672790131274124\n"
     ]
    }
   ],
   "source": [
    "train(model, NER_train_loader, criterion, optimizer, num_epochs=10)"
   ]
  }
 ],
 "metadata": {
  "kernelspec": {
   "display_name": "base",
   "language": "python",
   "name": "python3"
  },
  "language_info": {
   "codemirror_mode": {
    "name": "ipython",
    "version": 3
   },
   "file_extension": ".py",
   "mimetype": "text/x-python",
   "name": "python",
   "nbconvert_exporter": "python",
   "pygments_lexer": "ipython3",
   "version": "3.10.11"
  }
 },
 "nbformat": 4,
 "nbformat_minor": 2
}
