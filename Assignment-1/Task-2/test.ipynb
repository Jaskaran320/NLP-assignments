{
 "cells": [
  {
   "cell_type": "markdown",
   "metadata": {},
   "source": [
    "## Imports"
   ]
  },
  {
   "cell_type": "code",
   "execution_count": 61,
   "metadata": {},
   "outputs": [
    {
     "name": "stdout",
     "output_type": "stream",
     "text": [
      "The autoreload extension is already loaded. To reload it, use:\n",
      "  %reload_ext autoreload\n"
     ]
    }
   ],
   "source": [
    "%load_ext autoreload\n",
    "%autoreload 2\n",
    "import numpy as np\n",
    "import pickle\n",
    "from bigram import BigramLM\n",
    "from tqdm import tqdm\n",
    "from sklearn.feature_extraction.text import TfidfVectorizer\n",
    "from sklearn.svm import SVC\n",
    "from sklearn.model_selection import GridSearchCV\n",
    "from utils import emotion_scores\n",
    "import warnings\n",
    "warnings.filterwarnings('ignore')"
   ]
  },
  {
   "cell_type": "markdown",
   "metadata": {},
   "source": [
    "## Model Setup"
   ]
  },
  {
   "cell_type": "code",
   "execution_count": 6,
   "metadata": {},
   "outputs": [],
   "source": [
    "corpus_file_path = '../data/corpus.txt'\n",
    "\n",
    "with open(corpus_file_path, 'r') as file:\n",
    "    lines = file.readlines()\n",
    "\n",
    "modified_lines = ['$ ' + line.strip() for line in lines]\n",
    "joined_string = '\\n'.join(modified_lines)\n",
    "corpus = joined_string"
   ]
  },
  {
   "cell_type": "code",
   "execution_count": 7,
   "metadata": {},
   "outputs": [
    {
     "name": "stdout",
     "output_type": "stream",
     "text": [
      "Model initialized 🟢\n",
      "Tokens set 🟢\n"
     ]
    },
    {
     "name": "stderr",
     "output_type": "stream",
     "text": [
      "Populating bigram matrix...: 100%|██████████| 48931/48931 [00:00<00:00, 630744.02it/s]\n"
     ]
    },
    {
     "name": "stdout",
     "output_type": "stream",
     "text": [
      "All matrices calculated 🟢\n",
      "Calculating Kneser-Ney matrix...\n",
      "Kneser-Ney matrix calculated 🟢\n"
     ]
    }
   ],
   "source": [
    "model = BigramLM(corpus)\n",
    "model.set_tokens()\n",
    "model.calculate_bigrams()\n",
    "model.set_laplace_matrix()\n",
    "model.set_kn_matrix(d=0.75)"
   ]
  },
  {
   "cell_type": "markdown",
   "metadata": {},
   "source": [
    "## Generating Emotion for all non-zero Bigrams"
   ]
  },
  {
   "cell_type": "code",
   "execution_count": 80,
   "metadata": {},
   "outputs": [],
   "source": [
    "tokens = model.get_tokens()\n",
    "count_matrix = model.get_count_matrix()"
   ]
  },
  {
   "cell_type": "code",
   "execution_count": 29,
   "metadata": {},
   "outputs": [
    {
     "name": "stderr",
     "output_type": "stream",
     "text": [
      "5430it [12:24,  7.29it/s]\n"
     ]
    }
   ],
   "source": [
    "emotions = {}\n",
    "for i, token in tqdm(enumerate(tokens)):\n",
    "    for j, token2 in enumerate(tokens):\n",
    "        if count_matrix[i][j] > 0 and token!='$' and token2!=\"$\":\n",
    "            emotions[(token, token2)] = emotion_scores(str(token + \" \" + token2))\n",
    "        if count_matrix[i][j] > 0 and token=='$' and token2!=\"$\":\n",
    "            emotions[(token, token2)]= emotion_scores(str(token2))\n",
    "        if count_matrix[i][j] > 0 and token!='$' and token2==\"$\":\n",
    "            emotions[(token, token2)]= emotion_scores(str(token))\n",
    "\n",
    "with open('emotions.pkl', 'wb') as f:\n",
    "    pickle.dump(emotions, f)"
   ]
  },
  {
   "cell_type": "code",
   "execution_count": 71,
   "metadata": {},
   "outputs": [],
   "source": [
    "emo = pickle.load(open(\"pickle_files/emotions.pkl\", \"rb\"))"
   ]
  },
  {
   "cell_type": "markdown",
   "metadata": {},
   "source": [
    "## Generating 50 Sentences each of every emotion\n"
   ]
  },
  {
   "cell_type": "code",
   "execution_count": 53,
   "metadata": {},
   "outputs": [
    {
     "name": "stderr",
     "output_type": "stream",
     "text": [
      "Generating sadness matrix: 5430it [00:15, 360.22it/s]\n",
      "Generating sentences: 100%|██████████| 50/50 [00:02<00:00, 24.87it/s]\n"
     ]
    },
    {
     "name": "stdout",
     "output_type": "stream",
     "text": [
      "Sentences generated and stored 🟢\n"
     ]
    },
    {
     "name": "stderr",
     "output_type": "stream",
     "text": [
      "Generating joy matrix: 5430it [00:15, 345.96it/s]\n",
      "Generating sentences: 100%|██████████| 50/50 [00:02<00:00, 22.74it/s]\n"
     ]
    },
    {
     "name": "stdout",
     "output_type": "stream",
     "text": [
      "Sentences generated and stored 🟢\n"
     ]
    },
    {
     "name": "stderr",
     "output_type": "stream",
     "text": [
      "Generating love matrix: 5430it [00:14, 373.71it/s]\n",
      "Generating sentences: 100%|██████████| 50/50 [00:01<00:00, 27.09it/s]\n"
     ]
    },
    {
     "name": "stdout",
     "output_type": "stream",
     "text": [
      "Sentences generated and stored 🟢\n"
     ]
    },
    {
     "name": "stderr",
     "output_type": "stream",
     "text": [
      "Generating anger matrix: 5430it [00:13, 401.66it/s]\n",
      "Generating sentences: 100%|██████████| 50/50 [00:01<00:00, 25.01it/s]\n"
     ]
    },
    {
     "name": "stdout",
     "output_type": "stream",
     "text": [
      "Sentences generated and stored 🟢\n"
     ]
    },
    {
     "name": "stderr",
     "output_type": "stream",
     "text": [
      "Generating fear matrix: 5430it [00:14, 371.98it/s]\n",
      "Generating sentences: 100%|██████████| 50/50 [00:01<00:00, 25.61it/s]\n"
     ]
    },
    {
     "name": "stdout",
     "output_type": "stream",
     "text": [
      "Sentences generated and stored 🟢\n"
     ]
    },
    {
     "name": "stderr",
     "output_type": "stream",
     "text": [
      "Generating surprise matrix: 5430it [00:13, 397.81it/s]\n",
      "Generating sentences: 100%|██████████| 50/50 [00:01<00:00, 29.35it/s]"
     ]
    },
    {
     "name": "stdout",
     "output_type": "stream",
     "text": [
      "Sentences generated and stored 🟢\n"
     ]
    },
    {
     "name": "stderr",
     "output_type": "stream",
     "text": [
      "\n"
     ]
    }
   ],
   "source": [
    "emotions=[\"sadness\", \"joy\", \"love\", \"anger\", \"fear\", \"surprise\"]\n",
    "for i in emotions:\n",
    "    # used count matrix use some other matrix like laplace or kneser-ney\n",
    "    model.generate_sentences(model.get_kn_matrix(), emotion=i, word_limit=15, no_of_sentences=50, alpha = 0.10, beta = 10)"
   ]
  },
  {
   "cell_type": "markdown",
   "metadata": {},
   "source": [
    "## Training SVC Classifier"
   ]
  },
  {
   "cell_type": "code",
   "execution_count": 54,
   "metadata": {},
   "outputs": [
    {
     "name": "stdout",
     "output_type": "stream",
     "text": [
      "(2400, 5410)\n"
     ]
    }
   ],
   "source": [
    "corpus_file = \"..\\data\\corpus.txt\"\n",
    "labels_file = \"..\\data\\labels.txt\"\n",
    "\n",
    "with open(corpus_file) as f:\n",
    "    vectorizer = TfidfVectorizer(smooth_idf=True)\n",
    "    X = vectorizer.fit_transform(f)\n",
    "\n",
    "print(X.shape)\n",
    "\n",
    "with open(labels_file) as l:\n",
    "    y = l.read().splitlines()"
   ]
  },
  {
   "cell_type": "code",
   "execution_count": 55,
   "metadata": {},
   "outputs": [
    {
     "name": "stdout",
     "output_type": "stream",
     "text": [
      "best parameters: {'C': 2, 'degree': 2, 'gamma': 'scale', 'kernel': 'rbf'}\n",
      "best score: 0.70875\n"
     ]
    }
   ],
   "source": [
    "parameters = {'kernel': ('poly', 'rbf'), 'C': [2, 3], 'gamma': ['auto', 'scale'], \"degree\": [2, 3]}\n",
    "clf = GridSearchCV(SVC(), parameters, n_jobs=4, refit=True)\n",
    "clf.fit(X, y)\n",
    "best_model=clf.best_estimator_\n",
    "print(\"best parameters:\", clf.best_params_)\n",
    "print(\"best score:\", clf.best_score_)"
   ]
  },
  {
   "cell_type": "code",
   "execution_count": 56,
   "metadata": {},
   "outputs": [
    {
     "name": "stdout",
     "output_type": "stream",
     "text": [
      "0.9991666666666666\n"
     ]
    }
   ],
   "source": [
    "print(best_model.score(X, y))"
   ]
  },
  {
   "cell_type": "code",
   "execution_count": 57,
   "metadata": {},
   "outputs": [],
   "source": [
    "emotions = [\"sadness\", \"joy\", \"love\", \"anger\", \"fear\", \"surprise\"]\n",
    "dataset = {}\n",
    "for emotion in emotions:\n",
    "    path = \".\\emotion_text\\gen_\" + emotion+\".txt\"\n",
    "    with open(path, 'r') as file:\n",
    "        dataset[emotion] = file.read().splitlines()"
   ]
  },
  {
   "cell_type": "code",
   "execution_count": 68,
   "metadata": {},
   "outputs": [
    {
     "name": "stdout",
     "output_type": "stream",
     "text": [
      "sadness 0.92\n",
      "joy 0.7\n",
      "love 0.98\n",
      "anger 0.58\n",
      "fear 0.82\n",
      "surprise 1.0\n",
      "Average accuracy:  0.8333333333333334\n"
     ]
    }
   ],
   "source": [
    "def emotion_accuracy(emotion, dataset, best_model):\n",
    "    X = vectorizer.transform(dataset[emotion])\n",
    "    y = [emotion]*len(dataset[emotion])\n",
    "    return best_model.score(X, y)\n",
    "\n",
    "for emotion in emotions:\n",
    "    print(emotion, emotion_accuracy(emotion, dataset, best_model)) \n",
    "   \n",
    "print(\"Average accuracy: \", np.mean([emotion_accuracy(emotion, dataset, best_model) for emotion in emotions]))"
   ]
  },
  {
   "cell_type": "code",
   "execution_count": 59,
   "metadata": {},
   "outputs": [
    {
     "name": "stdout",
     "output_type": "stream",
     "text": [
      "Top 5 max values: [ 164.  201.  247.  293. 1017.]\n",
      "Their indices: [(4767, 2322), (2322, 5194), (1736, 2751), (2322, 152), (2322, 1736)]\n"
     ]
    }
   ],
   "source": [
    "matrix = model.get_count_matrix()\n",
    "matrix = matrix[1:, 1:]\n",
    "top_5_indices = np.argpartition(matrix.flatten(), -5)[-5:]\n",
    "\n",
    "# Sort indices and corresponding values together\n",
    "top_5_indices_sorted = top_5_indices[np.argsort(matrix.flatten()[top_5_indices])]\n",
    "top_5_values = matrix.flatten()[top_5_indices_sorted]\n",
    "\n",
    "# Convert flattened indices back to matrix indices\n",
    "top_5_row_indices, top_5_col_indices = np.unravel_index(top_5_indices_sorted, matrix.shape)\n",
    "\n",
    "# Print results\n",
    "print(\"Top 5 max values:\", top_5_values)\n",
    "print(\"Their indices:\", list(zip(top_5_row_indices, top_5_col_indices)))"
   ]
  },
  {
   "cell_type": "code",
   "execution_count": 60,
   "metadata": {},
   "outputs": [
    {
     "name": "stdout",
     "output_type": "stream",
     "text": [
      "thanksgiving hypocrite\n",
      "hypocrite wars\n",
      "feefyefo lights\n",
      "hypocrite always\n",
      "hypocrite feefyefo\n"
     ]
    }
   ],
   "source": [
    "for i in range(5):\n",
    "    print(model.get_tokens()[top_5_row_indices[i]], model.get_tokens()[top_5_col_indices[i]])"
   ]
  },
  {
   "cell_type": "code",
   "execution_count": null,
   "metadata": {},
   "outputs": [],
   "source": []
  }
 ],
 "metadata": {
  "kernelspec": {
   "display_name": "Python 3",
   "language": "python",
   "name": "python3"
  },
  "language_info": {
   "codemirror_mode": {
    "name": "ipython",
    "version": 3
   },
   "file_extension": ".py",
   "mimetype": "text/x-python",
   "name": "python",
   "nbconvert_exporter": "python",
   "pygments_lexer": "ipython3",
   "version": "3.10.11"
  }
 },
 "nbformat": 4,
 "nbformat_minor": 2
}
